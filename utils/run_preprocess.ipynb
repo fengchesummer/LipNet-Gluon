{
 "cells": [
  {
   "cell_type": "code",
   "execution_count": 1,
   "metadata": {
    "scrolled": true
   },
   "outputs": [],
   "source": [
    "from download_data import multi_p_run, put_worker, _worker, download_mp4, download_align"
   ]
  },
  {
   "cell_type": "markdown",
   "metadata": {},
   "source": [
    "## TEST"
   ]
  },
  {
   "cell_type": "code",
   "execution_count": 2,
   "metadata": {},
   "outputs": [
    {
     "name": "stdout",
     "output_type": "stream",
     "text": [
      "[0, 1, 2, 3, 4, 5, 6, 7, 8, 9, 10, 11, 12, 13, 14, 15, 16, 17, 18, 19, 20, 21, 22, 23, 24, 25, 26, 27, 28, 29, 30, 31, 32, 33, 34]\n",
      "5\n",
      "35 >> [[0, 7], [7, 14], [14, 21], [21, 28], [28, 35]]\n",
      "[{'succ': {0, 1, 2, 3, 4, 5, 6}, 'fail': set()}, {'succ': {7, 8, 9, 10, 11, 12, 13}, 'fail': set()}, {'succ': {14, 15, 16, 17, 18, 19, 20}, 'fail': set()}, {'succ': {21, 22, 23, 24, 25, 26, 27}, 'fail': set()}, {'succ': {32, 33, 34, 28, 29, 30, 31}, 'fail': set()}]\n"
     ]
    }
   ],
   "source": [
    "res = multi_p_run(35, put_worker, _worker, 5)\n",
    "print (res)"
   ]
  },
  {
   "cell_type": "markdown",
   "metadata": {},
   "source": [
    "## Download Data"
   ]
  },
  {
   "cell_type": "code",
   "execution_count": null,
   "metadata": {},
   "outputs": [
    {
     "name": "stdout",
     "output_type": "stream",
     "text": [
      "[0, 1, 2, 3, 4, 5, 6, 7, 8, 9, 10, 11, 12, 13, 14, 15, 16, 17, 18, 19, 20, 21, 22, 23, 24, 25, 26, 27, 28, 29, 30, 31, 32, 33, 34]\n",
      "9\n",
      "35 >> [[0, 4], [4, 8], [8, 12], [12, 16], [16, 20], [20, 24], [24, 28], [28, 32], [32, 35]]\n",
      "cd datasets && curl http://spandh.dcs.shef.ac.uk/gridcorpus/s0/align/s0.tar --output s0.tar && tar -xvf s0.tar\n",
      "cd datasets && curl http://spandh.dcs.shef.ac.uk/gridcorpus/s4/align/s4.tar --output s4.tar && tar -xvf s4.tar\n",
      "cd datasets && curl http://spandh.dcs.shef.ac.uk/gridcorpus/s8/align/s8.tar --output s8.tar && tar -xvf s8.tar\n",
      "cd datasets && curl http://spandh.dcs.shef.ac.uk/gridcorpus/s12/align/s12.tar --output s12.tar && tar -xvf s12.tar\n",
      "cd datasets && curl http://spandh.dcs.shef.ac.uk/gridcorpus/s16/align/s16.tar --output s16.tar && tar -xvf s16.tar\n",
      "cd datasets && curl http://spandh.dcs.shef.ac.uk/gridcorpus/s20/align/s20.tar --output s20.tar && tar -xvf s20.tar\n",
      "cd datasets && curl http://spandh.dcs.shef.ac.uk/gridcorpus/s24/align/s24.tar --output s24.tar && tar -xvf s24.tar\n",
      "cd datasets && curl http://spandh.dcs.shef.ac.uk/gridcorpus/s28/align/s28.tar --output s28.tar && tar -xvf s28.tar\n",
      "cd datasets && curl http://spandh.dcs.shef.ac.uk/gridcorpus/s32/align/s32.tar --output s32.tar && tar -xvf s32.tar\n",
      "cd datasets && curl http://spandh.dcs.shef.ac.uk/gridcorpus/s1/align/s1.tar --output s1.tar && tar -xvf s1.tar\n",
      "cd datasets && curl http://spandh.dcs.shef.ac.uk/gridcorpus/s13/align/s13.tar --output s13.tar && tar -xvf s13.tar\n",
      "cd datasets && curl http://spandh.dcs.shef.ac.uk/gridcorpus/s5/align/s5.tar --output s5.tar && tar -xvf s5.tar\n",
      "cd datasets && curl http://spandh.dcs.shef.ac.uk/gridcorpus/s29/align/s29.tar --output s29.tar && tar -xvf s29.tar\n",
      "cd datasets && curl http://spandh.dcs.shef.ac.uk/gridcorpus/s17/align/s17.tar --output s17.tar && tar -xvf s17.tar\n",
      "cd datasets && curl http://spandh.dcs.shef.ac.uk/gridcorpus/s33/align/s33.tar --output s33.tar && tar -xvf s33.tar\n",
      "cd datasets && curl http://spandh.dcs.shef.ac.uk/gridcorpus/s21/align/s21.tar --output s21.tar && tar -xvf s21.tar\n",
      "cd datasets && curl http://spandh.dcs.shef.ac.uk/gridcorpus/s9/align/s9.tar --output s9.tar && tar -xvf s9.tar\n",
      "cd datasets && curl http://spandh.dcs.shef.ac.uk/gridcorpus/s2/align/s2.tar --output s2.tar && tar -xvf s2.tar\n",
      "cd datasets && curl http://spandh.dcs.shef.ac.uk/gridcorpus/s25/align/s25.tar --output s25.tar && tar -xvf s25.tar\n"
     ]
    }
   ],
   "source": [
    "## down\n",
    "import os\n",
    "os.makedirs('./datasets', exist_ok=True)\n",
    "os.system('rm -rf ./datasets/*')\n",
    "\n",
    "res = multi_p_run(35, put_worker, download_align, 9)\n",
    "print (res)\n",
    "\n",
    "os.system('rm -f datasets/*.tar && rm -f datasets/align/Thumbs.db')"
   ]
  },
  {
   "cell_type": "code",
   "execution_count": null,
   "metadata": {},
   "outputs": [],
   "source": [
    "res = multi_p_run(35, put_worker, download_mp4, 9)\n",
    "print (res)\n",
    "\n",
    "os.system('rm -f datasets/*.zip && rm -f datasets/*/Thumbs.db')"
   ]
  },
  {
   "cell_type": "code",
   "execution_count": null,
   "metadata": {},
   "outputs": [],
   "source": [
    "## download single 22 th dir\n",
    "#download_data.py(22, 22)"
   ]
  },
  {
   "cell_type": "markdown",
   "metadata": {},
   "source": [
    "## Preprocess Data"
   ]
  },
  {
   "cell_type": "code",
   "execution_count": null,
   "metadata": {},
   "outputs": [],
   "source": [
    "from preprocess_data import preprocess"
   ]
  },
  {
   "cell_type": "code",
   "execution_count": null,
   "metadata": {},
   "outputs": [],
   "source": [
    "res = multi_p_run(35, put_worker, preprocess, 5)"
   ]
  },
  {
   "cell_type": "code",
   "execution_count": null,
   "metadata": {},
   "outputs": [],
   "source": []
  }
 ],
 "metadata": {
  "kernelspec": {
   "display_name": "Python 3",
   "language": "python",
   "name": "python3"
  },
  "language_info": {
   "codemirror_mode": {
    "name": "ipython",
    "version": 3
   },
   "file_extension": ".py",
   "mimetype": "text/x-python",
   "name": "python",
   "nbconvert_exporter": "python",
   "pygments_lexer": "ipython3",
   "version": "3.6.6"
  }
 },
 "nbformat": 4,
 "nbformat_minor": 2
}
